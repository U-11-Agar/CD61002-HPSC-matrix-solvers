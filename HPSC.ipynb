{
 "cells": [
  {
   "cell_type": "code",
   "execution_count": 6,
   "metadata": {},
   "outputs": [
    {
     "name": "stdout",
     "output_type": "stream",
     "text": [
      "[[1.00000e+05 1.00000e+00 2.00000e+00 3.00000e+00 4.00000e+00 5.00000e+00\n",
      "  6.00000e+00 7.00000e+00 8.00000e+00 9.00000e+00]\n",
      " [1.00000e+01 1.00011e+05 1.20000e+01 1.30000e+01 1.40000e+01 1.50000e+01\n",
      "  1.60000e+01 1.70000e+01 1.80000e+01 1.90000e+01]\n",
      " [2.00000e+01 2.10000e+01 1.00022e+05 2.30000e+01 2.40000e+01 2.50000e+01\n",
      "  2.60000e+01 2.70000e+01 2.80000e+01 2.90000e+01]\n",
      " [3.00000e+01 3.10000e+01 3.20000e+01 1.00033e+05 3.40000e+01 3.50000e+01\n",
      "  3.60000e+01 3.70000e+01 3.80000e+01 3.90000e+01]\n",
      " [4.00000e+01 4.10000e+01 4.20000e+01 4.30000e+01 1.00044e+05 4.50000e+01\n",
      "  4.60000e+01 4.70000e+01 4.80000e+01 4.90000e+01]\n",
      " [5.00000e+01 5.10000e+01 5.20000e+01 5.30000e+01 5.40000e+01 1.00055e+05\n",
      "  5.60000e+01 5.70000e+01 5.80000e+01 5.90000e+01]\n",
      " [6.00000e+01 6.10000e+01 6.20000e+01 6.30000e+01 6.40000e+01 6.50000e+01\n",
      "  1.00066e+05 6.70000e+01 6.80000e+01 6.90000e+01]\n",
      " [7.00000e+01 7.10000e+01 7.20000e+01 7.30000e+01 7.40000e+01 7.50000e+01\n",
      "  7.60000e+01 1.00077e+05 7.80000e+01 7.90000e+01]\n",
      " [8.00000e+01 8.10000e+01 8.20000e+01 8.30000e+01 8.40000e+01 8.50000e+01\n",
      "  8.60000e+01 8.70000e+01 1.00088e+05 8.90000e+01]\n",
      " [9.00000e+01 9.10000e+01 9.20000e+01 9.30000e+01 9.40000e+01 9.50000e+01\n",
      "  9.60000e+01 9.70000e+01 9.80000e+01 1.00099e+05]]\n",
      "Spectral radius for jacobi:  0.0044371551386308584\n",
      "convergence rate for jacobi: 5.417741842438705\n",
      "Spectral radius for gs:  0.00032460976813644227\n",
      "convergence rate for gs: 8.032886810494782\n",
      "spectral radius for SOR:  0.5004987723405051\n",
      "rate of convergence for SOR: 0.6921501330959937\n"
     ]
    }
   ],
   "source": [
    "import numpy as np\n",
    "import pandas as pd\n",
    "N=10;\n",
    "a=np.arange(N**2).reshape(N,N);\n",
    "a=a+(np.identity(N)*100000)\n",
    "# print(np.identity(N)*3)\n",
    "print(a)\n",
    "# Get the upper triangular part of the array\n",
    "upper = np.triu(a)\n",
    "\n",
    "# Get the lower triangular part of the array\n",
    "lower = np.tril(a)\n",
    "\n",
    "# Get the diagonal part of the array\n",
    "diag = np.diag(np.diag(a))\n",
    "\n",
    "# print(\"Original array:\\n\", a)\n",
    "# print(\"Upper triangular array:\\n\", upper)\n",
    "# print(\"Lower triangular array:\\n\", lower)\n",
    "# print(\"Diagonal array:\\n\", diag)\n",
    "# print(\"Diagonal array:\\n\", upper-diag)\n",
    "upper=upper-diag;\n",
    "lower=lower-diag;\n",
    "# For Jacobi:\n",
    "M_j=diag\n",
    "inv_diag_j=np.linalg.inv(M_j);\n",
    "G_j=np.dot(inv_diag_j,M_j-a);\n",
    "eigenvalues_j, eigenvectors_j = np.linalg.eig(G_j);\n",
    "# Compute the spectral radius and rate of convergence\n",
    "spectral_radius_jacobi = max(np.abs(eigenvalues_j));\n",
    "convergence_rate_jacobi= -np.log(spectral_radius_jacobi);\n",
    "print(\"Spectral radius for jacobi: \", spectral_radius_jacobi);\n",
    "print(\"convergence rate for jacobi:\",convergence_rate_jacobi);\n",
    "\n",
    "# For Gauss seidal:\n",
    "M_gs=diag+lower;\n",
    "inv_diag_gs=np.linalg.inv(M_gs);\n",
    "G_gs=np.dot(inv_diag_gs,M_gs-a);\n",
    "eigenvalues_gs, eigenvectors_gs = np.linalg.eig(G_gs);\n",
    "# Compute the spectral radius and rate of convergence\n",
    "spectral_radius_gs = max(np.abs(eigenvalues_gs));\n",
    "convergence_rate_gs= -np.log(spectral_radius_gs);\n",
    "print(\"Spectral radius for gs: \", spectral_radius_gs);\n",
    "print(\"convergence rate for gs:\",convergence_rate_gs);\n",
    "\n",
    "# for SOR for gauss seidal\n",
    "# give the value for omega\n",
    "omega=1.5;\n",
    "M_SOR=diag+(omega*lower);\n",
    "inv_M_SOR=np.linalg.inv(M_SOR);\n",
    "x=((omega*((-1)*(upper)))+((1-omega)*diag));\n",
    "G_SOR=np.dot(inv_M_SOR,x);\n",
    "eigenvalues_SOR,eigenvector_SOR=np.linalg.eig(G_SOR);\n",
    "# compute the spectral radius and rate of convergence\n",
    "spectral_radius_SOR=max(np.abs(eigenvalues_SOR));\n",
    "convergence_rate_SOR=-np.log(spectral_radius_SOR);\n",
    "print(\"spectral radius for SOR: \",spectral_radius_SOR);\n",
    "print(\"rate of convergence for SOR:\",convergence_rate_SOR);"
   ]
  },
  {
   "cell_type": "code",
   "execution_count": null,
   "metadata": {},
   "outputs": [],
   "source": []
  }
 ],
 "metadata": {
  "kernelspec": {
   "display_name": "base",
   "language": "python",
   "name": "python3"
  },
  "language_info": {
   "codemirror_mode": {
    "name": "ipython",
    "version": 3
   },
   "file_extension": ".py",
   "mimetype": "text/x-python",
   "name": "python",
   "nbconvert_exporter": "python",
   "pygments_lexer": "ipython3",
   "version": "3.9.7"
  },
  "orig_nbformat": 4,
  "vscode": {
   "interpreter": {
    "hash": "40d3a090f54c6569ab1632332b64b2c03c39dcf918b08424e98f38b5ae0af88f"
   }
  }
 },
 "nbformat": 4,
 "nbformat_minor": 2
}
